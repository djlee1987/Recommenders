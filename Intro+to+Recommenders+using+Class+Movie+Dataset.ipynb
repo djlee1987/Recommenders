{
 "cells": [
  {
   "cell_type": "code",
   "execution_count": 1,
   "metadata": {
    "collapsed": false
   },
   "outputs": [],
   "source": [
    "import pandas as pd\n",
    "import numpy as np"
   ]
  },
  {
   "cell_type": "code",
   "execution_count": 2,
   "metadata": {
    "collapsed": false
   },
   "outputs": [],
   "source": [
    "#download the class movie reviews from here:\n",
    "#https://docs.google.com/spreadsheets/d/17rCJzmWxqvAu9rkpkgt4ToccIlY4A1Ffuu1W9X3B8Ag/\n",
    "#then read that in as a pandas dataframe"
   ]
  },
  {
   "cell_type": "code",
   "execution_count": 3,
   "metadata": {
    "collapsed": false
   },
   "outputs": [],
   "source": [
    "M = pd.read_csv(\"Movie Reviews.csv\", index_col='Name')"
   ]
  },
  {
   "cell_type": "code",
   "execution_count": 4,
   "metadata": {
    "collapsed": false
   },
   "outputs": [
    {
     "data": {
      "text/html": [
       "<div>\n",
       "<table border=\"1\" class=\"dataframe\">\n",
       "  <thead>\n",
       "    <tr style=\"text-align: right;\">\n",
       "      <th></th>\n",
       "      <th>American Sniper</th>\n",
       "      <th>The Hunger Games: Mockingjay - Part 1</th>\n",
       "      <th>Guardians of the Galaxy</th>\n",
       "      <th>The Lego Movie</th>\n",
       "      <th>The Hobbit</th>\n",
       "      <th>Transformers</th>\n",
       "      <th>Malificent</th>\n",
       "      <th>Big Hero 6</th>\n",
       "      <th>Godzilla</th>\n",
       "      <th>Interstellar</th>\n",
       "      <th>How to Train your Dragon 2</th>\n",
       "      <th>Gone Girl</th>\n",
       "      <th>Divergent</th>\n",
       "      <th>The Fault in Our Stars</th>\n",
       "      <th>Unbroken</th>\n",
       "      <th>300: Rise of an Empire</th>\n",
       "    </tr>\n",
       "    <tr>\n",
       "      <th>Name</th>\n",
       "      <th></th>\n",
       "      <th></th>\n",
       "      <th></th>\n",
       "      <th></th>\n",
       "      <th></th>\n",
       "      <th></th>\n",
       "      <th></th>\n",
       "      <th></th>\n",
       "      <th></th>\n",
       "      <th></th>\n",
       "      <th></th>\n",
       "      <th></th>\n",
       "      <th></th>\n",
       "      <th></th>\n",
       "      <th></th>\n",
       "      <th></th>\n",
       "    </tr>\n",
       "  </thead>\n",
       "  <tbody>\n",
       "    <tr>\n",
       "      <th>Aarti Jaiswal</th>\n",
       "      <td>4.0</td>\n",
       "      <td>NaN</td>\n",
       "      <td>NaN</td>\n",
       "      <td>NaN</td>\n",
       "      <td>4.0</td>\n",
       "      <td>3.0</td>\n",
       "      <td>NaN</td>\n",
       "      <td>5.0</td>\n",
       "      <td>NaN</td>\n",
       "      <td>NaN</td>\n",
       "      <td>NaN</td>\n",
       "      <td>4.0</td>\n",
       "      <td>NaN</td>\n",
       "      <td>NaN</td>\n",
       "      <td>NaN</td>\n",
       "      <td>NaN</td>\n",
       "    </tr>\n",
       "    <tr>\n",
       "      <th>Aditya Dharmasagar</th>\n",
       "      <td>5.0</td>\n",
       "      <td>NaN</td>\n",
       "      <td>NaN</td>\n",
       "      <td>4.0</td>\n",
       "      <td>5.0</td>\n",
       "      <td>4.0</td>\n",
       "      <td>4.0</td>\n",
       "      <td>NaN</td>\n",
       "      <td>4.0</td>\n",
       "      <td>5.0</td>\n",
       "      <td>5.0</td>\n",
       "      <td>5.0</td>\n",
       "      <td>4.0</td>\n",
       "      <td>4.0</td>\n",
       "      <td>NaN</td>\n",
       "      <td>5.0</td>\n",
       "    </tr>\n",
       "    <tr>\n",
       "      <th>Adrian Cavallaris</th>\n",
       "      <td>NaN</td>\n",
       "      <td>4.0</td>\n",
       "      <td>3.0</td>\n",
       "      <td>NaN</td>\n",
       "      <td>4.0</td>\n",
       "      <td>2.0</td>\n",
       "      <td>NaN</td>\n",
       "      <td>NaN</td>\n",
       "      <td>NaN</td>\n",
       "      <td>NaN</td>\n",
       "      <td>NaN</td>\n",
       "      <td>NaN</td>\n",
       "      <td>4.0</td>\n",
       "      <td>NaN</td>\n",
       "      <td>NaN</td>\n",
       "      <td>NaN</td>\n",
       "    </tr>\n",
       "    <tr>\n",
       "      <th>Ahmed Muheebuddin</th>\n",
       "      <td>5.0</td>\n",
       "      <td>NaN</td>\n",
       "      <td>4.0</td>\n",
       "      <td>NaN</td>\n",
       "      <td>3.0</td>\n",
       "      <td>NaN</td>\n",
       "      <td>NaN</td>\n",
       "      <td>NaN</td>\n",
       "      <td>NaN</td>\n",
       "      <td>NaN</td>\n",
       "      <td>NaN</td>\n",
       "      <td>NaN</td>\n",
       "      <td>NaN</td>\n",
       "      <td>NaN</td>\n",
       "      <td>NaN</td>\n",
       "      <td>NaN</td>\n",
       "    </tr>\n",
       "    <tr>\n",
       "      <th>Aishwarya reddy</th>\n",
       "      <td>NaN</td>\n",
       "      <td>3.0</td>\n",
       "      <td>4.0</td>\n",
       "      <td>3.0</td>\n",
       "      <td>4.0</td>\n",
       "      <td>4.0</td>\n",
       "      <td>3.0</td>\n",
       "      <td>NaN</td>\n",
       "      <td>4.0</td>\n",
       "      <td>4.0</td>\n",
       "      <td>3.0</td>\n",
       "      <td>5.0</td>\n",
       "      <td>NaN</td>\n",
       "      <td>4.0</td>\n",
       "      <td>NaN</td>\n",
       "      <td>3.0</td>\n",
       "    </tr>\n",
       "  </tbody>\n",
       "</table>\n",
       "</div>"
      ],
      "text/plain": [
       "                    American Sniper  The Hunger Games: Mockingjay - Part 1  \\\n",
       "Name                                                                         \n",
       "Aarti Jaiswal                   4.0                                    NaN   \n",
       "Aditya Dharmasagar              5.0                                    NaN   \n",
       "Adrian Cavallaris               NaN                                    4.0   \n",
       "Ahmed Muheebuddin               5.0                                    NaN   \n",
       "Aishwarya reddy                 NaN                                    3.0   \n",
       "\n",
       "                    Guardians of the Galaxy  The Lego Movie  The Hobbit  \\\n",
       "Name                                                                      \n",
       "Aarti Jaiswal                           NaN             NaN         4.0   \n",
       "Aditya Dharmasagar                      NaN             4.0         5.0   \n",
       "Adrian Cavallaris                       3.0             NaN         4.0   \n",
       "Ahmed Muheebuddin                       4.0             NaN         3.0   \n",
       "Aishwarya reddy                         4.0             3.0         4.0   \n",
       "\n",
       "                    Transformers  Malificent  Big Hero 6  Godzilla  \\\n",
       "Name                                                                 \n",
       "Aarti Jaiswal                3.0         NaN         5.0       NaN   \n",
       "Aditya Dharmasagar           4.0         4.0         NaN       4.0   \n",
       "Adrian Cavallaris            2.0         NaN         NaN       NaN   \n",
       "Ahmed Muheebuddin            NaN         NaN         NaN       NaN   \n",
       "Aishwarya reddy              4.0         3.0         NaN       4.0   \n",
       "\n",
       "                    Interstellar  How to Train your Dragon 2  Gone Girl  \\\n",
       "Name                                                                      \n",
       "Aarti Jaiswal                NaN                         NaN        4.0   \n",
       "Aditya Dharmasagar           5.0                         5.0        5.0   \n",
       "Adrian Cavallaris            NaN                         NaN        NaN   \n",
       "Ahmed Muheebuddin            NaN                         NaN        NaN   \n",
       "Aishwarya reddy              4.0                         3.0        5.0   \n",
       "\n",
       "                    Divergent  The Fault in Our Stars  Unbroken  \\\n",
       "Name                                                              \n",
       "Aarti Jaiswal             NaN                     NaN       NaN   \n",
       "Aditya Dharmasagar        4.0                     4.0       NaN   \n",
       "Adrian Cavallaris         4.0                     NaN       NaN   \n",
       "Ahmed Muheebuddin         NaN                     NaN       NaN   \n",
       "Aishwarya reddy           NaN                     4.0       NaN   \n",
       "\n",
       "                    300: Rise of an Empire  \n",
       "Name                                        \n",
       "Aarti Jaiswal                          NaN  \n",
       "Aditya Dharmasagar                     5.0  \n",
       "Adrian Cavallaris                      NaN  \n",
       "Ahmed Muheebuddin                      NaN  \n",
       "Aishwarya reddy                        3.0  "
      ]
     },
     "execution_count": 4,
     "metadata": {},
     "output_type": "execute_result"
    }
   ],
   "source": [
    "M.head()"
   ]
  },
  {
   "cell_type": "code",
   "execution_count": 5,
   "metadata": {
    "collapsed": true
   },
   "outputs": [],
   "source": [
    "def pearson(s1, s2):\n",
    "    \"\"\"Take two pd.Series objects and return a pearson correlation.\"\"\"\n",
    "    s1_c = s1 - s1.mean()\n",
    "    s2_c = s2 - s2.mean()\n",
    "    return np.sum(s1_c * s2_c) / np.sqrt(np.sum(s1_c ** 2) * np.sum(s2_c ** 2))"
   ]
  },
  {
   "cell_type": "code",
   "execution_count": 6,
   "metadata": {
    "collapsed": false
   },
   "outputs": [],
   "source": [
    "def get_recs(movie_name, M, num):\n",
    "\n",
    "    import numpy as np\n",
    "    reviews = []\n",
    "    for title in M.columns:\n",
    "        if title == movie_name:\n",
    "            continue\n",
    "        cor = pearson(M[movie_name], M[title])\n",
    "        if np.isnan(cor):\n",
    "            continue\n",
    "        else:\n",
    "            reviews.append((title, cor))\n",
    "    \n",
    "    reviews.sort(key=lambda tup: tup[1], reverse=True)\n",
    "    return reviews[:num]\n",
    "\n",
    "    "
   ]
  },
  {
   "cell_type": "markdown",
   "metadata": {},
   "source": [
    "### Question 1:  What movie is most Similar to 'The fault in our stars' (60 pts)"
   ]
  },
  {
   "cell_type": "code",
   "execution_count": 7,
   "metadata": {
    "collapsed": false
   },
   "outputs": [
    {
     "data": {
      "text/plain": [
       "[('Interstellar', 0.23771516387741332),\n",
       " ('Malificent', 0.20294179241370683),\n",
       " ('Divergent', 0.16250996411209925),\n",
       " ('How to Train your Dragon 2', 0.15744168095198388),\n",
       " ('Guardians of the Galaxy', 0.13672667146415826)]"
      ]
     },
     "execution_count": 7,
     "metadata": {},
     "output_type": "execute_result"
    }
   ],
   "source": [
    "recs = get_recs('The Fault in Our Stars', M, 5)\n",
    "recs"
   ]
  },
  {
   "cell_type": "markdown",
   "metadata": {},
   "source": [
    "\n",
    "## Q1 Answer: Interstellar with a correlation coefficient of 0.23771516387741332\n",
    "\n",
    "\n"
   ]
  },
  {
   "cell_type": "markdown",
   "metadata": {},
   "source": [
    "### Question 2:  Which movie(s) would you most like to see, based on your classmates experience? (40 pts)"
   ]
  },
  {
   "cell_type": "code",
   "execution_count": 8,
   "metadata": {
    "collapsed": false
   },
   "outputs": [
    {
     "name": "stderr",
     "output_type": "stream",
     "text": [
      "C:\\Users\\leeda\\Anaconda3\\lib\\site-packages\\ipykernel\\__main__.py:7: FutureWarning: sort is deprecated, use sort_values(inplace=True) for INPLACE sorting\n"
     ]
    },
    {
     "data": {
      "text/plain": [
       "Index(['300: Rise of an Empire', 'Gone Girl'], dtype='object')"
      ]
     },
     "execution_count": 8,
     "metadata": {},
     "output_type": "execute_result"
    }
   ],
   "source": [
    "#HINTS...\n",
    "\n",
    "#the movies I've seen\n",
    "M_copy = M.copy()\n",
    "my_ratings = M_copy.ix['Daniel Lee'].dropna()\n",
    "#the movie I've rated the highest\n",
    "my_ratings.sort(ascending=False)\n",
    "#the name of the movie I've rated the highest\n",
    "fav_movie = my_ratings.index[my_ratings == my_ratings[0]]\n",
    "fav_movie"
   ]
  },
  {
   "cell_type": "code",
   "execution_count": 9,
   "metadata": {
    "collapsed": false
   },
   "outputs": [
    {
     "data": {
      "text/plain": [
       "[('How to Train your Dragon 2', 0.19728895166240468),\n",
       " ('American Sniper', 0.17389820131557082),\n",
       " ('American Sniper', 0.11862930770262931),\n",
       " ('Godzilla', 0.10836186560067539),\n",
       " ('The Lego Movie', 0.095720613959421261),\n",
       " ('How to Train your Dragon 2', 0.086048673938659781),\n",
       " ('Godzilla', 0.083403594188018029),\n",
       " ('Unbroken', 0.078167813743160383),\n",
       " ('The Fault in Our Stars', 0.070779205719329205),\n",
       " ('Unbroken', 0.069253477081581707),\n",
       " ('Big Hero 6', -0.00074459180156818754),\n",
       " ('The Fault in Our Stars', -0.052487561626630527),\n",
       " ('The Lego Movie', -0.10554188888119423),\n",
       " ('Big Hero 6', -0.11165814123982593)]"
      ]
     },
     "execution_count": 9,
     "metadata": {},
     "output_type": "execute_result"
    }
   ],
   "source": [
    "### Two of my movies are rated 5.0 so run get_recs for both and select highest correlation coefficient\n",
    "\n",
    "def get_recs3(movie_name, M, num):\n",
    "    \"\"\"\n",
    "    Sames as get_recs but disregard movies I've seen\n",
    "    \"\"\"\n",
    "    import numpy as np\n",
    "    reviews = []\n",
    "    for title in M.columns:\n",
    "        if title == movie_name:\n",
    "            continue\n",
    "        if title in my_ratings.index:\n",
    "            continue\n",
    "        cor = pearson(M[movie_name], M[title])\n",
    "        if np.isnan(cor):\n",
    "            continue\n",
    "        else:\n",
    "            reviews.append((title, cor))\n",
    "    \n",
    "    reviews.sort(key=lambda tup: tup[1], reverse=True)\n",
    "    return reviews[:num]\n",
    "\n",
    "recs2 = get_recs3(fav_movie[0], M, M.shape[1])\n",
    "recs2 = recs2 + get_recs3(fav_movie[1], M, M.shape[1])\n",
    "recs2.sort(key=lambda tup: tup[1], reverse=True)\n",
    "recs2"
   ]
  },
  {
   "cell_type": "markdown",
   "metadata": {},
   "source": [
    "## Q2 Answer: How to Train your Dragon 2 with highest coefficient of correlation of 0.19728895166240468"
   ]
  },
  {
   "cell_type": "markdown",
   "metadata": {},
   "source": [
    "### Question 3 (Bonus): Ratings for rest of unseen movies"
   ]
  },
  {
   "cell_type": "code",
   "execution_count": 10,
   "metadata": {
    "collapsed": false
   },
   "outputs": [
    {
     "data": {
      "text/plain": [
       "American Sniper                          0.0\n",
       "The Hunger Games: Mockingjay - Part 1    4.0\n",
       "Guardians of the Galaxy                  4.0\n",
       "The Lego Movie                           0.0\n",
       "The Hobbit                               3.0\n",
       "Transformers                             3.0\n",
       "Malificent                               2.0\n",
       "Big Hero 6                               0.0\n",
       "Godzilla                                 0.0\n",
       "Interstellar                             4.0\n",
       "How to Train your Dragon 2               0.0\n",
       "Gone Girl                                5.0\n",
       "Divergent                                3.0\n",
       "The Fault in Our Stars                   0.0\n",
       "Unbroken                                 0.0\n",
       "300: Rise of an Empire                   5.0\n",
       "Name: Daniel Lee, dtype: float64"
      ]
     },
     "execution_count": 10,
     "metadata": {},
     "output_type": "execute_result"
    }
   ],
   "source": [
    "### Create personal ratings vector\n",
    "my_ratings = M_copy.ix['Daniel Lee']\n",
    "my_ratings[np.isnan(my_ratings)] = 0\n",
    "my_ratings"
   ]
  },
  {
   "cell_type": "code",
   "execution_count": 11,
   "metadata": {
    "collapsed": false
   },
   "outputs": [
    {
     "data": {
      "text/html": [
       "<div>\n",
       "<table border=\"1\" class=\"dataframe\">\n",
       "  <thead>\n",
       "    <tr style=\"text-align: right;\">\n",
       "      <th></th>\n",
       "      <th>American Sniper</th>\n",
       "      <th>The Hunger Games: Mockingjay - Part 1</th>\n",
       "      <th>Guardians of the Galaxy</th>\n",
       "      <th>The Lego Movie</th>\n",
       "      <th>The Hobbit</th>\n",
       "      <th>Transformers</th>\n",
       "      <th>Malificent</th>\n",
       "      <th>Big Hero 6</th>\n",
       "      <th>Godzilla</th>\n",
       "      <th>Interstellar</th>\n",
       "      <th>How to Train your Dragon 2</th>\n",
       "      <th>Gone Girl</th>\n",
       "      <th>Divergent</th>\n",
       "      <th>The Fault in Our Stars</th>\n",
       "      <th>Unbroken</th>\n",
       "      <th>300: Rise of an Empire</th>\n",
       "    </tr>\n",
       "  </thead>\n",
       "  <tbody>\n",
       "    <tr>\n",
       "      <th>American Sniper</th>\n",
       "      <td>1.000000</td>\n",
       "      <td>-0.064664</td>\n",
       "      <td>-0.050455</td>\n",
       "      <td>0.149767</td>\n",
       "      <td>-0.019540</td>\n",
       "      <td>0.041354</td>\n",
       "      <td>-0.208142</td>\n",
       "      <td>-0.102054</td>\n",
       "      <td>-0.016494</td>\n",
       "      <td>0.141962</td>\n",
       "      <td>0.076223</td>\n",
       "      <td>0.173898</td>\n",
       "      <td>-0.057356</td>\n",
       "      <td>-0.112809</td>\n",
       "      <td>-0.163562</td>\n",
       "      <td>0.118629</td>\n",
       "    </tr>\n",
       "    <tr>\n",
       "      <th>The Hunger Games: Mockingjay - Part 1</th>\n",
       "      <td>-0.064664</td>\n",
       "      <td>1.000000</td>\n",
       "      <td>0.231174</td>\n",
       "      <td>0.110598</td>\n",
       "      <td>0.182478</td>\n",
       "      <td>0.174304</td>\n",
       "      <td>-0.053693</td>\n",
       "      <td>0.137686</td>\n",
       "      <td>0.115324</td>\n",
       "      <td>-0.028089</td>\n",
       "      <td>-0.003352</td>\n",
       "      <td>-0.132111</td>\n",
       "      <td>0.114596</td>\n",
       "      <td>0.040421</td>\n",
       "      <td>0.010990</td>\n",
       "      <td>0.073603</td>\n",
       "    </tr>\n",
       "    <tr>\n",
       "      <th>Guardians of the Galaxy</th>\n",
       "      <td>-0.050455</td>\n",
       "      <td>0.231174</td>\n",
       "      <td>1.000000</td>\n",
       "      <td>0.455714</td>\n",
       "      <td>0.226968</td>\n",
       "      <td>-0.057754</td>\n",
       "      <td>-0.059282</td>\n",
       "      <td>0.090330</td>\n",
       "      <td>0.063978</td>\n",
       "      <td>-0.058907</td>\n",
       "      <td>0.137409</td>\n",
       "      <td>-0.042051</td>\n",
       "      <td>-0.025741</td>\n",
       "      <td>0.136727</td>\n",
       "      <td>-0.074491</td>\n",
       "      <td>-0.299337</td>\n",
       "    </tr>\n",
       "    <tr>\n",
       "      <th>The Lego Movie</th>\n",
       "      <td>0.149767</td>\n",
       "      <td>0.110598</td>\n",
       "      <td>0.455714</td>\n",
       "      <td>1.000000</td>\n",
       "      <td>0.171087</td>\n",
       "      <td>0.048239</td>\n",
       "      <td>-0.081631</td>\n",
       "      <td>0.091025</td>\n",
       "      <td>0.022157</td>\n",
       "      <td>0.040154</td>\n",
       "      <td>0.248249</td>\n",
       "      <td>0.095721</td>\n",
       "      <td>-0.024027</td>\n",
       "      <td>0.045235</td>\n",
       "      <td>-0.143481</td>\n",
       "      <td>-0.105542</td>\n",
       "    </tr>\n",
       "    <tr>\n",
       "      <th>The Hobbit</th>\n",
       "      <td>-0.019540</td>\n",
       "      <td>0.182478</td>\n",
       "      <td>0.226968</td>\n",
       "      <td>0.171087</td>\n",
       "      <td>1.000000</td>\n",
       "      <td>0.267340</td>\n",
       "      <td>0.147590</td>\n",
       "      <td>-0.013805</td>\n",
       "      <td>0.092784</td>\n",
       "      <td>0.144440</td>\n",
       "      <td>0.066983</td>\n",
       "      <td>-0.145888</td>\n",
       "      <td>0.163974</td>\n",
       "      <td>-0.011598</td>\n",
       "      <td>-0.178675</td>\n",
       "      <td>0.064161</td>\n",
       "    </tr>\n",
       "  </tbody>\n",
       "</table>\n",
       "</div>"
      ],
      "text/plain": [
       "                                       American Sniper  \\\n",
       "American Sniper                               1.000000   \n",
       "The Hunger Games: Mockingjay - Part 1        -0.064664   \n",
       "Guardians of the Galaxy                      -0.050455   \n",
       "The Lego Movie                                0.149767   \n",
       "The Hobbit                                   -0.019540   \n",
       "\n",
       "                                       The Hunger Games: Mockingjay - Part 1  \\\n",
       "American Sniper                                                    -0.064664   \n",
       "The Hunger Games: Mockingjay - Part 1                               1.000000   \n",
       "Guardians of the Galaxy                                             0.231174   \n",
       "The Lego Movie                                                      0.110598   \n",
       "The Hobbit                                                          0.182478   \n",
       "\n",
       "                                       Guardians of the Galaxy  \\\n",
       "American Sniper                                      -0.050455   \n",
       "The Hunger Games: Mockingjay - Part 1                 0.231174   \n",
       "Guardians of the Galaxy                               1.000000   \n",
       "The Lego Movie                                        0.455714   \n",
       "The Hobbit                                            0.226968   \n",
       "\n",
       "                                       The Lego Movie  The Hobbit  \\\n",
       "American Sniper                              0.149767   -0.019540   \n",
       "The Hunger Games: Mockingjay - Part 1        0.110598    0.182478   \n",
       "Guardians of the Galaxy                      0.455714    0.226968   \n",
       "The Lego Movie                               1.000000    0.171087   \n",
       "The Hobbit                                   0.171087    1.000000   \n",
       "\n",
       "                                       Transformers  Malificent  Big Hero 6  \\\n",
       "American Sniper                            0.041354   -0.208142   -0.102054   \n",
       "The Hunger Games: Mockingjay - Part 1      0.174304   -0.053693    0.137686   \n",
       "Guardians of the Galaxy                   -0.057754   -0.059282    0.090330   \n",
       "The Lego Movie                             0.048239   -0.081631    0.091025   \n",
       "The Hobbit                                 0.267340    0.147590   -0.013805   \n",
       "\n",
       "                                       Godzilla  Interstellar  \\\n",
       "American Sniper                       -0.016494      0.141962   \n",
       "The Hunger Games: Mockingjay - Part 1  0.115324     -0.028089   \n",
       "Guardians of the Galaxy                0.063978     -0.058907   \n",
       "The Lego Movie                         0.022157      0.040154   \n",
       "The Hobbit                             0.092784      0.144440   \n",
       "\n",
       "                                       How to Train your Dragon 2  Gone Girl  \\\n",
       "American Sniper                                          0.076223   0.173898   \n",
       "The Hunger Games: Mockingjay - Part 1                   -0.003352  -0.132111   \n",
       "Guardians of the Galaxy                                  0.137409  -0.042051   \n",
       "The Lego Movie                                           0.248249   0.095721   \n",
       "The Hobbit                                               0.066983  -0.145888   \n",
       "\n",
       "                                       Divergent  The Fault in Our Stars  \\\n",
       "American Sniper                        -0.057356               -0.112809   \n",
       "The Hunger Games: Mockingjay - Part 1   0.114596                0.040421   \n",
       "Guardians of the Galaxy                -0.025741                0.136727   \n",
       "The Lego Movie                         -0.024027                0.045235   \n",
       "The Hobbit                              0.163974               -0.011598   \n",
       "\n",
       "                                       Unbroken  300: Rise of an Empire  \n",
       "American Sniper                       -0.163562                0.118629  \n",
       "The Hunger Games: Mockingjay - Part 1  0.010990                0.073603  \n",
       "Guardians of the Galaxy               -0.074491               -0.299337  \n",
       "The Lego Movie                        -0.143481               -0.105542  \n",
       "The Hobbit                            -0.178675                0.064161  "
      ]
     },
     "execution_count": 11,
     "metadata": {},
     "output_type": "execute_result"
    }
   ],
   "source": [
    "### Create similarity matrix  \n",
    "M_occ = M.copy()\n",
    "coocc = M_occ.T.dot(M_occ) # matrix shell\n",
    "\n",
    "# create function to give you correlations\n",
    "def get_recs2(movie_name, M, num):\n",
    "    \"\"\"\n",
    "    Same as get_recs but \n",
    "    1. Sets correlation coefficient to itself as 1 ie perfectly positive correlation\n",
    "    2. Removes title from results\n",
    "    3. No post-sorting\n",
    "    \"\"\"\n",
    "    import numpy as np\n",
    "    \n",
    "    reviews = []\n",
    "    for title in M.columns:\n",
    "        if title == movie_name:\n",
    "            cor = 1\n",
    "        else:\n",
    "            cor = pearson(M[movie_name], M[title])\n",
    "        if np.isnan(cor):\n",
    "            continue\n",
    "        else:\n",
    "            reviews.append(cor)\n",
    "    \n",
    "    #reviews.sort(key=lambda tup: tup[1], reverse=True)\n",
    "    return reviews[:num]\n",
    "\n",
    "# replace coocc shell with correlations\n",
    "for x in coocc.columns:\n",
    "    coocc[x] = get_recs2(x, M, coocc.columns.shape[0])\n",
    "\n",
    "coocc.head()"
   ]
  },
  {
   "cell_type": "code",
   "execution_count": 12,
   "metadata": {
    "collapsed": false
   },
   "outputs": [
    {
     "data": {
      "text/plain": [
       "American Sniper                          1.047099\n",
       "The Hunger Games: Mockingjay - Part 1    5.826550\n",
       "Guardians of the Galaxy                  3.293979\n",
       "The Lego Movie                           2.799393\n",
       "The Hobbit                               6.396028\n",
       "Transformers                             6.557666\n",
       "Malificent                               3.175381\n",
       "Big Hero 6                               0.198734\n",
       "Godzilla                                 4.330372\n",
       "Interstellar                             5.708707\n",
       "How to Train your Dragon 2               3.647230\n",
       "Gone Girl                                3.773004\n",
       "Divergent                                7.085832\n",
       "The Fault in Our Stars                   2.537774\n",
       "Unbroken                                 1.158034\n",
       "300: Rise of an Empire                   6.196823\n",
       "dtype: float64"
      ]
     },
     "execution_count": 12,
     "metadata": {},
     "output_type": "execute_result"
    }
   ],
   "source": [
    "### Dot product similarity matrix with preference vector\n",
    "raw_scores = coocc.dot(my_ratings)\n",
    "raw_scores"
   ]
  },
  {
   "cell_type": "code",
   "execution_count": 13,
   "metadata": {
    "collapsed": false
   },
   "outputs": [
    {
     "data": {
      "text/plain": [
       "American Sniper               1.154774\n",
       "The Lego Movie                1.318438\n",
       "Big Hero 6                    0.191665\n",
       "Godzilla                      1.838158\n",
       "How to Train your Dragon 2    1.347589\n",
       "The Fault in Our Stars        1.434422\n",
       "Unbroken                      0.978458\n",
       "dtype: float64"
      ]
     },
     "execution_count": 13,
     "metadata": {},
     "output_type": "execute_result"
    }
   ],
   "source": [
    "### Normalize with sum of coefficients\n",
    "predict_ratings = raw_scores.copy()\n",
    "for x in coocc.index:\n",
    "    predict_ratings[x] = raw_scores[x]/coocc[x].sum()\n",
    "predict_ratings.drop(M.ix['Daniel Lee'].dropna().index) # drop movies I've seen before"
   ]
  },
  {
   "cell_type": "markdown",
   "metadata": {},
   "source": [
    "## Q3 Answer: Ratings listed above.  All are predicted below a rating of 2 which makes sense as I would have seen it already if I wanted to see it or thought it I'd like it.  Best recommendation would be Godzilla, which oddly enough, was a movie I was contemplating seeing."
   ]
  }
 ],
 "metadata": {
  "anaconda-cloud": {},
  "kernelspec": {
   "display_name": "Python [default]",
   "language": "python",
   "name": "python3"
  },
  "language_info": {
   "codemirror_mode": {
    "name": "ipython",
    "version": 3
   },
   "file_extension": ".py",
   "mimetype": "text/x-python",
   "name": "python",
   "nbconvert_exporter": "python",
   "pygments_lexer": "ipython3",
   "version": "3.5.2"
  }
 },
 "nbformat": 4,
 "nbformat_minor": 0
}
